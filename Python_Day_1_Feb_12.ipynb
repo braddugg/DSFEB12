{
  "nbformat": 4,
  "nbformat_minor": 0,
  "metadata": {
    "colab": {
      "provenance": [],
      "authorship_tag": "ABX9TyNnvTYzxwA5C1cLvXJ4V9X7",
      "include_colab_link": true
    },
    "kernelspec": {
      "name": "python3",
      "display_name": "Python 3"
    },
    "language_info": {
      "name": "python"
    }
  },
  "cells": [
    {
      "cell_type": "markdown",
      "metadata": {
        "id": "view-in-github",
        "colab_type": "text"
      },
      "source": [
        "<a href=\"https://colab.research.google.com/github/braddugg/DSFEB12/blob/main/Python_Day_1_Feb_12.ipynb\" target=\"_parent\"><img src=\"https://colab.research.google.com/assets/colab-badge.svg\" alt=\"Open In Colab\"/></a>"
      ]
    },
    {
      "cell_type": "code",
      "execution_count": 1,
      "metadata": {
        "colab": {
          "base_uri": "https://localhost:8080/"
        },
        "id": "5mLIEBICYoOl",
        "outputId": "7128272c-5cb0-48b6-f086-96a0ad5cefc6"
      },
      "outputs": [
        {
          "output_type": "stream",
          "name": "stdout",
          "text": [
            "My Name is Brad\n"
          ]
        }
      ],
      "source": [
        "print(\"My Name is Brad\")"
      ]
    },
    {
      "cell_type": "code",
      "source": [
        "# COMMENT\n",
        "# Enter - It goes to next line within same code block\n",
        "# Shift + Enter - It executes this code block and goes to next code block\n",
        "# Alt + Enter - It executes this code block and creates a new code block\n",
        "# Ctrl + Enter - It executes this code block"
      ],
      "metadata": {
        "id": "BE7kSKACaDxn"
      },
      "execution_count": 2,
      "outputs": []
    },
    {
      "cell_type": "code",
      "source": [
        "#TYPES OF BRACKETS\n",
        "#[] - data extraction/slicing of data, lists\n",
        "#{}  - dictionaries/sets\n",
        "#() - methods/functions, tuples"
      ],
      "metadata": {
        "id": "KjT95h0ja62L"
      },
      "execution_count": 3,
      "outputs": []
    },
    {
      "cell_type": "code",
      "source": [
        "x = 20"
      ],
      "metadata": {
        "id": "4ZncUvDZb4gb"
      },
      "execution_count": 4,
      "outputs": []
    },
    {
      "cell_type": "code",
      "source": [
        "x"
      ],
      "metadata": {
        "colab": {
          "base_uri": "https://localhost:8080/"
        },
        "id": "WOmEZygYcA-R",
        "outputId": "6b1bb764-c504-45e2-b4b9-45031b3c16c1"
      },
      "execution_count": 5,
      "outputs": [
        {
          "output_type": "execute_result",
          "data": {
            "text/plain": [
              "20"
            ]
          },
          "metadata": {},
          "execution_count": 5
        }
      ]
    },
    {
      "cell_type": "code",
      "source": [
        "type(x)"
      ],
      "metadata": {
        "colab": {
          "base_uri": "https://localhost:8080/"
        },
        "id": "Xfc8oPhwcCD3",
        "outputId": "6765fc15-909c-495c-f44c-9637e396b78e"
      },
      "execution_count": 6,
      "outputs": [
        {
          "output_type": "execute_result",
          "data": {
            "text/plain": [
              "int"
            ]
          },
          "metadata": {},
          "execution_count": 6
        }
      ]
    },
    {
      "cell_type": "code",
      "source": [
        "y = 'brad'\n",
        "type(y)"
      ],
      "metadata": {
        "colab": {
          "base_uri": "https://localhost:8080/"
        },
        "id": "ixTskw-kcHVW",
        "outputId": "db1a4a13-f10e-4b23-8afb-e14cf2a366e4"
      },
      "execution_count": 7,
      "outputs": [
        {
          "output_type": "execute_result",
          "data": {
            "text/plain": [
              "str"
            ]
          },
          "metadata": {},
          "execution_count": 7
        }
      ]
    },
    {
      "cell_type": "code",
      "source": [
        "z = 13.5\n",
        "type(z)"
      ],
      "metadata": {
        "colab": {
          "base_uri": "https://localhost:8080/"
        },
        "id": "6pSbz-bVcSMG",
        "outputId": "48ee66f3-e80e-41df-c4d5-8fa3d2ebc6b1"
      },
      "execution_count": 8,
      "outputs": [
        {
          "output_type": "execute_result",
          "data": {
            "text/plain": [
              "float"
            ]
          },
          "metadata": {},
          "execution_count": 8
        }
      ]
    },
    {
      "cell_type": "code",
      "source": [
        "a = True\n",
        "type(a)"
      ],
      "metadata": {
        "colab": {
          "base_uri": "https://localhost:8080/"
        },
        "id": "8tyBd7aUcVrn",
        "outputId": "4fe81081-6d27-462d-968f-53308682aa2f"
      },
      "execution_count": 9,
      "outputs": [
        {
          "output_type": "execute_result",
          "data": {
            "text/plain": [
              "bool"
            ]
          },
          "metadata": {},
          "execution_count": 9
        }
      ]
    },
    {
      "cell_type": "code",
      "source": [
        "#DATA TYPES \n",
        "#string - character or alphabet\n",
        "#float - decimal \n",
        "#integer - number\n",
        "#boolean - logical - True or False\n"
      ],
      "metadata": {
        "id": "O5SK0WOjcfZR"
      },
      "execution_count": 10,
      "outputs": []
    },
    {
      "cell_type": "code",
      "source": [
        "print(20+10)\n",
        "print(100-80)\n",
        "print(990/99)\n",
        "print(85*10)"
      ],
      "metadata": {
        "colab": {
          "base_uri": "https://localhost:8080/"
        },
        "id": "InrVtyQHcwQX",
        "outputId": "276fefe7-fd27-4272-d2b8-d9dc612099f8"
      },
      "execution_count": 13,
      "outputs": [
        {
          "output_type": "stream",
          "name": "stdout",
          "text": [
            "30\n",
            "20\n",
            "10.0\n",
            "850\n"
          ]
        }
      ]
    },
    {
      "cell_type": "code",
      "source": [
        "import math"
      ],
      "metadata": {
        "id": "aCfWNhX0c6eL"
      },
      "execution_count": 14,
      "outputs": []
    },
    {
      "cell_type": "code",
      "source": [
        "math.sqrt(64)"
      ],
      "metadata": {
        "colab": {
          "base_uri": "https://localhost:8080/"
        },
        "id": "Rjtn38_SeAZE",
        "outputId": "361ecd4a-e005-4bdf-8d03-22d3efd809a8"
      },
      "execution_count": 15,
      "outputs": [
        {
          "output_type": "execute_result",
          "data": {
            "text/plain": [
              "8.0"
            ]
          },
          "metadata": {},
          "execution_count": 15
        }
      ]
    },
    {
      "cell_type": "code",
      "source": [
        "list1 = [\"Brad\", 20, 13.5, True]"
      ],
      "metadata": {
        "id": "_6pC_ylJeMQ0"
      },
      "execution_count": 16,
      "outputs": []
    },
    {
      "cell_type": "code",
      "source": [
        "list1"
      ],
      "metadata": {
        "colab": {
          "base_uri": "https://localhost:8080/"
        },
        "id": "n3hgO6Z6elPx",
        "outputId": "b07252f9-0c41-4755-8cfd-50fc1bd578c6"
      },
      "execution_count": 17,
      "outputs": [
        {
          "output_type": "execute_result",
          "data": {
            "text/plain": [
              "['Brad', 20, 13.5, True]"
            ]
          },
          "metadata": {},
          "execution_count": 17
        }
      ]
    },
    {
      "cell_type": "code",
      "source": [
        "#Index in Python starts with 0 "
      ],
      "metadata": {
        "id": "oTkP8elrel9Y"
      },
      "execution_count": 18,
      "outputs": []
    },
    {
      "cell_type": "code",
      "source": [
        "list1[1] "
      ],
      "metadata": {
        "colab": {
          "base_uri": "https://localhost:8080/"
        },
        "id": "mVzdjg3je71a",
        "outputId": "d11436d9-2bba-49dd-e5e0-dc2ee9552226"
      },
      "execution_count": 19,
      "outputs": [
        {
          "output_type": "execute_result",
          "data": {
            "text/plain": [
              "20"
            ]
          },
          "metadata": {},
          "execution_count": 19
        }
      ]
    },
    {
      "cell_type": "code",
      "source": [
        "list1[1] = 40\n",
        "list1"
      ],
      "metadata": {
        "colab": {
          "base_uri": "https://localhost:8080/"
        },
        "id": "gg2oaJk5e_eO",
        "outputId": "5400d1eb-9a24-4517-bf57-1e6dc394eb85"
      },
      "execution_count": 20,
      "outputs": [
        {
          "output_type": "execute_result",
          "data": {
            "text/plain": [
              "['Brad', 40, 13.5, True]"
            ]
          },
          "metadata": {},
          "execution_count": 20
        }
      ]
    },
    {
      "cell_type": "code",
      "source": [
        "#Will the Changes be reflected in Github???"
      ],
      "metadata": {
        "id": "Dj1l7qyofEJt"
      },
      "execution_count": 21,
      "outputs": []
    },
    {
      "cell_type": "code",
      "source": [
        "#Will the Changes be reflected in Github??? - Just like that"
      ],
      "metadata": {
        "id": "vhmUBo-Yjv_W"
      },
      "execution_count": 22,
      "outputs": []
    },
    {
      "cell_type": "code",
      "source": [],
      "metadata": {
        "id": "BYEVWm2lj4_g"
      },
      "execution_count": null,
      "outputs": []
    }
  ]
}